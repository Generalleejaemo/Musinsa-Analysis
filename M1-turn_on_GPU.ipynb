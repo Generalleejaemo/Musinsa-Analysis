{
 "cells": [
  {
   "cell_type": "code",
   "execution_count": 1,
   "metadata": {},
   "outputs": [
    {
     "name": "stdout",
     "output_type": "stream",
     "text": [
      "Metal device set to: Apple M1\n",
      "\n",
      "systemMemory: 16.00 GB\n",
      "maxCacheSize: 5.33 GB\n",
      "\n",
      "WARNING:tensorflow:AutoGraph could not transform <function normalize_img at 0x105c64940> and will run it as-is.\n",
      "Cause: Unable to locate the source code of <function normalize_img at 0x105c64940>. Note that functions defined in certain environments, like the interactive Python shell, do not expose their source code. If that is the case, you should define them in a .py source file. If you are certain the code is graph-compatible, wrap the call using @tf.autograph.experimental.do_not_convert. Original error: could not get source code\n",
      "To silence this warning, decorate the function with @tf.autograph.experimental.do_not_convert\n"
     ]
    },
    {
     "name": "stderr",
     "output_type": "stream",
     "text": [
      "2022-05-19 09:48:16.013359: I tensorflow/core/common_runtime/pluggable_device/pluggable_device_factory.cc:305] Could not identify NUMA node of platform GPU ID 0, defaulting to 0. Your kernel may not have been built with NUMA support.\n",
      "2022-05-19 09:48:16.013489: I tensorflow/core/common_runtime/pluggable_device/pluggable_device_factory.cc:271] Created TensorFlow device (/job:localhost/replica:0/task:0/device:GPU:0 with 0 MB memory) -> physical PluggableDevice (device: 0, name: METAL, pci bus id: <undefined>)\n",
      "WARNING:tensorflow:AutoGraph could not transform <function normalize_img at 0x105c64940> and will run it as-is.\n",
      "Cause: Unable to locate the source code of <function normalize_img at 0x105c64940>. Note that functions defined in certain environments, like the interactive Python shell, do not expose their source code. If that is the case, you should define them in a .py source file. If you are certain the code is graph-compatible, wrap the call using @tf.autograph.experimental.do_not_convert. Original error: could not get source code\n",
      "To silence this warning, decorate the function with @tf.autograph.experimental.do_not_convert\n"
     ]
    },
    {
     "name": "stdout",
     "output_type": "stream",
     "text": [
      "WARNING: AutoGraph could not transform <function normalize_img at 0x105c64940> and will run it as-is.\n",
      "Cause: Unable to locate the source code of <function normalize_img at 0x105c64940>. Note that functions defined in certain environments, like the interactive Python shell, do not expose their source code. If that is the case, you should define them in a .py source file. If you are certain the code is graph-compatible, wrap the call using @tf.autograph.experimental.do_not_convert. Original error: could not get source code\n",
      "To silence this warning, decorate the function with @tf.autograph.experimental.do_not_convert\n"
     ]
    },
    {
     "name": "stderr",
     "output_type": "stream",
     "text": [
      "2022-05-19 09:48:16.119491: I tensorflow/core/common_runtime/pluggable_device/pluggable_device_factory.cc:305] Could not identify NUMA node of platform GPU ID 0, defaulting to 0. Your kernel may not have been built with NUMA support.\n",
      "2022-05-19 09:48:16.119553: I tensorflow/core/common_runtime/pluggable_device/pluggable_device_factory.cc:271] Created TensorFlow device (/job:localhost/replica:0/task:0/device:GPU:0 with 0 MB memory) -> physical PluggableDevice (device: 0, name: METAL, pci bus id: <undefined>)\n",
      "2022-05-19 09:48:16.122164: W tensorflow/core/platform/profile_utils/cpu_utils.cc:128] Failed to get CPU frequency: 0 Hz\n",
      "2022-05-19 09:48:16.280708: I tensorflow/core/grappler/optimizers/custom_graph_optimizer_registry.cc:113] Plugin optimizer for device_type GPU is enabled.\n",
      "2022-05-19 09:48:16.297204: I tensorflow/core/grappler/optimizers/custom_graph_optimizer_registry.cc:113] Plugin optimizer for device_type GPU is enabled.\n",
      "2022-05-19 09:48:16.364889: I tensorflow/core/grappler/optimizers/custom_graph_optimizer_registry.cc:113] Plugin optimizer for device_type GPU is enabled.\n",
      "2022-05-19 09:48:16.388333: I tensorflow/core/grappler/optimizers/custom_graph_optimizer_registry.cc:113] Plugin optimizer for device_type GPU is enabled.\n",
      "2022-05-19 09:48:16.544151: I tensorflow/core/grappler/optimizers/custom_graph_optimizer_registry.cc:113] Plugin optimizer for device_type GPU is enabled.\n"
     ]
    },
    {
     "name": "stdout",
     "output_type": "stream",
     "text": [
      "Train on 469 steps, validate on 79 steps\n",
      "Epoch 1/12\n"
     ]
    },
    {
     "name": "stderr",
     "output_type": "stream",
     "text": [
      "2022-05-19 09:48:16.568837: I tensorflow/core/grappler/optimizers/custom_graph_optimizer_registry.cc:113] Plugin optimizer for device_type GPU is enabled.\n",
      "2022-05-19 09:48:16.602685: I tensorflow/core/grappler/optimizers/custom_graph_optimizer_registry.cc:113] Plugin optimizer for device_type GPU is enabled.\n",
      "2022-05-19 09:48:16.633785: I tensorflow/core/grappler/optimizers/custom_graph_optimizer_registry.cc:113] Plugin optimizer for device_type GPU is enabled.\n",
      "2022-05-19 09:48:16.686524: I tensorflow/core/grappler/optimizers/custom_graph_optimizer_registry.cc:113] Plugin optimizer for device_type GPU is enabled.\n",
      "2022-05-19 09:48:16.709476: I tensorflow/core/grappler/optimizers/custom_graph_optimizer_registry.cc:113] Plugin optimizer for device_type GPU is enabled.\n"
     ]
    },
    {
     "name": "stdout",
     "output_type": "stream",
     "text": [
      "469/469 [==============================] - ETA: 0s - batch: 234.0000 - size: 1.0000 - loss: 0.1610 - accuracy: 0.9526"
     ]
    },
    {
     "name": "stderr",
     "output_type": "stream",
     "text": [
      "/Users/cmblir/miniforge3/envs/musinsa/lib/python3.8/site-packages/keras/engine/training_v1.py:2057: UserWarning: `Model.state_updates` will be removed in a future version. This property should not be used in TensorFlow 2.0, as `updates` are applied automatically.\n",
      "  updates = self.state_updates\n",
      "2022-05-19 09:48:41.043911: I tensorflow/core/grappler/optimizers/custom_graph_optimizer_registry.cc:113] Plugin optimizer for device_type GPU is enabled.\n"
     ]
    },
    {
     "name": "stdout",
     "output_type": "stream",
     "text": [
      "469/469 [==============================] - 26s 50ms/step - batch: 234.0000 - size: 1.0000 - loss: 0.1610 - accuracy: 0.9526 - val_loss: 0.0529 - val_accuracy: 0.9818\n",
      "Epoch 2/12\n",
      "469/469 [==============================] - 24s 47ms/step - batch: 234.0000 - size: 1.0000 - loss: 0.0449 - accuracy: 0.9864 - val_loss: 0.0349 - val_accuracy: 0.9883\n",
      "Epoch 3/12\n",
      "469/469 [==============================] - 24s 47ms/step - batch: 234.0000 - size: 1.0000 - loss: 0.0285 - accuracy: 0.9910 - val_loss: 0.0341 - val_accuracy: 0.9893\n",
      "Epoch 4/12\n",
      "469/469 [==============================] - 24s 45ms/step - batch: 234.0000 - size: 1.0000 - loss: 0.0190 - accuracy: 0.9940 - val_loss: 0.0392 - val_accuracy: 0.9868\n",
      "Epoch 5/12\n",
      "469/469 [==============================] - 24s 47ms/step - batch: 234.0000 - size: 1.0000 - loss: 0.0144 - accuracy: 0.9953 - val_loss: 0.0308 - val_accuracy: 0.9901\n",
      "Epoch 6/12\n",
      "469/469 [==============================] - 24s 46ms/step - batch: 234.0000 - size: 1.0000 - loss: 0.0095 - accuracy: 0.9969 - val_loss: 0.0493 - val_accuracy: 0.9873\n",
      "Epoch 7/12\n",
      "469/469 [==============================] - 25s 49ms/step - batch: 234.0000 - size: 1.0000 - loss: 0.0084 - accuracy: 0.9973 - val_loss: 0.0378 - val_accuracy: 0.9893\n",
      "Epoch 8/12\n",
      "469/469 [==============================] - 40s 78ms/step - batch: 234.0000 - size: 1.0000 - loss: 0.0078 - accuracy: 0.9972 - val_loss: 0.0385 - val_accuracy: 0.9897\n",
      "Epoch 9/12\n",
      "469/469 [==============================] - 26s 47ms/step - batch: 234.0000 - size: 1.0000 - loss: 0.0051 - accuracy: 0.9983 - val_loss: 0.0461 - val_accuracy: 0.9888\n",
      "Epoch 10/12\n",
      "469/469 [==============================] - 24s 47ms/step - batch: 234.0000 - size: 1.0000 - loss: 0.0055 - accuracy: 0.9981 - val_loss: 0.0412 - val_accuracy: 0.9890\n",
      "Epoch 11/12\n",
      "469/469 [==============================] - 25s 47ms/step - batch: 234.0000 - size: 1.0000 - loss: 0.0043 - accuracy: 0.9986 - val_loss: 0.0431 - val_accuracy: 0.9903\n",
      "Epoch 12/12\n",
      "469/469 [==============================] - 24s 48ms/step - batch: 234.0000 - size: 1.0000 - loss: 0.0037 - accuracy: 0.9987 - val_loss: 0.0456 - val_accuracy: 0.9898\n",
      "CPU times: user 3min 10s, sys: 2min 12s, total: 5min 23s\n",
      "Wall time: 5min 17s\n"
     ]
    },
    {
     "data": {
      "text/plain": [
       "<keras.callbacks.History at 0x17b162220>"
      ]
     },
     "execution_count": 1,
     "metadata": {},
     "output_type": "execute_result"
    }
   ],
   "source": [
    "%%time\n",
    "import tensorflow.compat.v2 as tf\n",
    "import tensorflow_datasets as tfds\n",
    "tf.enable_v2_behavior()\n",
    "from tensorflow.python.framework.ops import disable_eager_execution\n",
    "disable_eager_execution()\n",
    "(ds_train, ds_test), ds_info = tfds.load( 'mnist', split=['train', 'test'], shuffle_files=True, as_supervised=True, with_info=True, )\n",
    "def normalize_img(image, label):\n",
    "    \"\"\"Normalizes images: `uint8` -> `float32`.\"\"\"\n",
    "    return tf.cast(image, tf.float32) / 255., label\n",
    "\n",
    "batch_size = 128\n",
    "ds_train = ds_train.map( normalize_img, num_parallel_calls=tf.data.experimental.AUTOTUNE)\n",
    "ds_train = ds_train.cache()\n",
    "ds_train = ds_train.shuffle(ds_info.splits['train'].num_examples)\n",
    "ds_train = ds_train.batch(batch_size)\n",
    "ds_train = ds_train.prefetch(tf.data.experimental.AUTOTUNE)\n",
    "ds_test = ds_test.map( normalize_img, num_parallel_calls=tf.data.experimental.AUTOTUNE)\n",
    "ds_test = ds_test.batch(batch_size)\n",
    "ds_test = ds_test.cache()\n",
    "ds_test = ds_test.prefetch(tf.data.experimental.AUTOTUNE)\n",
    "model = tf.keras.models.Sequential([\n",
    "    tf.keras.layers.Conv2D(32, kernel_size=(3, 3), activation='relu'),\n",
    "    tf.keras.layers.Conv2D(64, kernel_size=(3, 3), activation='relu'),\n",
    "    tf.keras.layers.MaxPooling2D(pool_size=(2, 2)),\n",
    "    # tf.keras.layers.Dropout(0.25),\n",
    "    tf.keras.layers.Flatten(),\n",
    "    tf.keras.layers.Dense(128, activation='relu'),\n",
    "    # tf.keras.layers.Dropout(0.5),\n",
    "    tf.keras.layers.Dense(10, activation='softmax') ])\n",
    "model.compile( loss='sparse_categorical_crossentropy', optimizer=tf.keras.optimizers.Adam(0.001), metrics=['accuracy'], )\n",
    "model.fit( ds_train, epochs=12, validation_data=ds_test, )"
   ]
  }
 ],
 "metadata": {
  "interpreter": {
   "hash": "14c39c01c23464f432ba66993e3eff58a62c33f38e334b80580b2ac9470a2578"
  },
  "kernelspec": {
   "display_name": "Python 3.8.13 ('musinsa')",
   "language": "python",
   "name": "python3"
  },
  "language_info": {
   "codemirror_mode": {
    "name": "ipython",
    "version": 3
   },
   "file_extension": ".py",
   "mimetype": "text/x-python",
   "name": "python",
   "nbconvert_exporter": "python",
   "pygments_lexer": "ipython3",
   "version": "3.8.13"
  },
  "orig_nbformat": 4
 },
 "nbformat": 4,
 "nbformat_minor": 2
}
